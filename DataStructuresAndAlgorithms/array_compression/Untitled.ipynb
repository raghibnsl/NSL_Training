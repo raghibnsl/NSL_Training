{
 "cells": [
  {
   "cell_type": "code",
   "execution_count": 3,
   "id": "0744a942",
   "metadata": {},
   "outputs": [
    {
     "name": "stdout",
     "output_type": "stream",
     "text": [
      "4\n",
      "portugues frances\n",
      "ingles espanhol red\n",
      "espanhol portugues amigo\n",
      "frances ingles date\n",
      "espanhol ingles actual\n"
     ]
    }
   ],
   "source": [
    "\n",
    "n=int(input())\n",
    "start,end=input().rstrip().split()\n",
    "stack=[start,]\n",
    "s_dict={start:{},end:{}}\n",
    "for i in range(n):\n",
    "    *lang,word=input().rstrip().split()\n",
    "    if start in lang:\n",
    "        if lang[0]==start:\n",
    "            stack.append(lang[1])\n",
    "            s_dict[lang[0]][lang[1]]\n",
    "        \n",
    "    "
   ]
  },
  {
   "cell_type": "code",
   "execution_count": 6,
   "id": "637eb75f",
   "metadata": {},
   "outputs": [],
   "source": [
    "*l1,l2=[1,2,3]\n"
   ]
  },
  {
   "cell_type": "code",
   "execution_count": 7,
   "id": "ebe6cd29",
   "metadata": {},
   "outputs": [
    {
     "data": {
      "text/plain": [
       "[1, 2]"
      ]
     },
     "execution_count": 7,
     "metadata": {},
     "output_type": "execute_result"
    }
   ],
   "source": [
    "l1"
   ]
  },
  {
   "cell_type": "code",
   "execution_count": 8,
   "id": "68250b4d",
   "metadata": {},
   "outputs": [
    {
     "data": {
      "text/plain": [
       "{'portugues': 4}"
      ]
     },
     "execution_count": 8,
     "metadata": {},
     "output_type": "execute_result"
    }
   ],
   "source": [
    "{start:4}"
   ]
  },
  {
   "cell_type": "code",
   "execution_count": 9,
   "id": "5a98c62f",
   "metadata": {},
   "outputs": [
    {
     "data": {
      "text/plain": [
       "{'ingles': {'espanhol': 'red'},\n",
       " 'espanhol': {'ingles': 'actual'},\n",
       " 'frances': {'ingles': 'date'}}"
      ]
     },
     "execution_count": 9,
     "metadata": {},
     "output_type": "execute_result"
    }
   ],
   "source": [
    "s_dict\n"
   ]
  },
  {
   "cell_type": "code",
   "execution_count": 22,
   "id": "9aa25c89",
   "metadata": {},
   "outputs": [],
   "source": [
    "s_dict['gg']=s_dict.get('gg',{})"
   ]
  },
  {
   "cell_type": "code",
   "execution_count": 23,
   "id": "9e10f318",
   "metadata": {},
   "outputs": [
    {
     "data": {
      "text/plain": [
       "{'ingles': {'espanhol': 'red'},\n",
       " 'espanhol': {'ingles': 'actual'},\n",
       " 'frances': {'ingles': 'date'},\n",
       " 'english': 'gg',\n",
       " 'gg': {}}"
      ]
     },
     "execution_count": 23,
     "metadata": {},
     "output_type": "execute_result"
    }
   ],
   "source": [
    "s_dict\n"
   ]
  },
  {
   "cell_type": "code",
   "execution_count": null,
   "id": "19b4fcbf",
   "metadata": {},
   "outputs": [],
   "source": []
  }
 ],
 "metadata": {
  "kernelspec": {
   "display_name": "Python 3 (ipykernel)",
   "language": "python",
   "name": "python3"
  },
  "language_info": {
   "codemirror_mode": {
    "name": "ipython",
    "version": 3
   },
   "file_extension": ".py",
   "mimetype": "text/x-python",
   "name": "python",
   "nbconvert_exporter": "python",
   "pygments_lexer": "ipython3",
   "version": "3.9.5"
  }
 },
 "nbformat": 4,
 "nbformat_minor": 5
}
